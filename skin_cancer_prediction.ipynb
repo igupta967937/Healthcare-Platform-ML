{
 "cells": [
  {
   "cell_type": "code",
   "execution_count": 1,
   "metadata": {},
   "outputs": [
    {
     "name": "stderr",
     "output_type": "stream",
     "text": [
      "Using TensorFlow backend.\n"
     ]
    }
   ],
   "source": [
    "from keras.layers import *\n",
    "from keras.models import Sequential\n",
    "from keras.utils import to_categorical\n",
    "from keras.preprocessing import image\n",
    "from keras.preprocessing.image import ImageDataGenerator\n",
    "import numpy as np"
   ]
  },
  {
   "cell_type": "code",
   "execution_count": 2,
   "metadata": {},
   "outputs": [
    {
     "name": "stdout",
     "output_type": "stream",
     "text": [
      "Model: \"sequential_1\"\n",
      "_________________________________________________________________\n",
      "Layer (type)                 Output Shape              Param #   \n",
      "=================================================================\n",
      "conv2d_1 (Conv2D)            (None, 98, 98, 32)        896       \n",
      "_________________________________________________________________\n",
      "max_pooling2d_1 (MaxPooling2 (None, 49, 49, 32)        0         \n",
      "_________________________________________________________________\n",
      "conv2d_2 (Conv2D)            (None, 47, 47, 64)        18496     \n",
      "_________________________________________________________________\n",
      "max_pooling2d_2 (MaxPooling2 (None, 23, 23, 64)        0         \n",
      "_________________________________________________________________\n",
      "conv2d_3 (Conv2D)            (None, 21, 21, 64)        36928     \n",
      "_________________________________________________________________\n",
      "max_pooling2d_3 (MaxPooling2 (None, 10, 10, 64)        0         \n",
      "_________________________________________________________________\n",
      "flatten_1 (Flatten)          (None, 6400)              0         \n",
      "_________________________________________________________________\n",
      "dense_1 (Dense)              (None, 64)                409664    \n",
      "_________________________________________________________________\n",
      "dense_2 (Dense)              (None, 32)                2080      \n",
      "_________________________________________________________________\n",
      "dense_3 (Dense)              (None, 2)                 66        \n",
      "=================================================================\n",
      "Total params: 468,130\n",
      "Trainable params: 468,130\n",
      "Non-trainable params: 0\n",
      "_________________________________________________________________\n"
     ]
    }
   ],
   "source": [
    "model=Sequential()\n",
    "\n",
    "model.add(Conv2D(32,(3,3), activation='relu',input_shape=(100,100,3)))\n",
    "model.add(MaxPooling2D(2,2))\n",
    "model.add(Conv2D(64,(3,3), activation='relu',input_shape=(100,100,3)))\n",
    "model.add(MaxPooling2D(2,2))\n",
    "model.add(Conv2D(64,(3,3), activation='relu',input_shape=(100,100,3)))\n",
    "model.add(MaxPooling2D(2,2))\n",
    "model.add(Flatten())\n",
    "model.add(Dense(64,activation='relu'))\n",
    "model.add(Dense(32,activation='relu'))\n",
    "model.add(Dense(2,activation='softmax'))\n",
    "model.summary()"
   ]
  },
  {
   "cell_type": "code",
   "execution_count": 3,
   "metadata": {},
   "outputs": [],
   "source": [
    "# validation split\n",
    "\n",
    "import os,shutil\n",
    "folders=os.listdir(\"train\")\n",
    "\n",
    "if not os.path.isdir(\"val_images\"):\n",
    "    os.mkdir(\"val_images\")\n",
    "classes=[\"benign\",\"malignant\"]\n",
    "\n",
    "for c in classes:\n",
    "    p=\"val_images/\"+c\n",
    "    if not os.path.isdir(p):\n",
    "        os.mkdir(p)\n",
    "        \n",
    "split=0.9\n",
    "for f in os.listdir(\"train\"):\n",
    "    path=\"train/\"+f\n",
    "    imgs=os.listdir(path)\n",
    "    \n",
    "    split_size=int(split*len(imgs))\n",
    "    files_to_move=imgs[split_size:]\n",
    "    \n",
    "    for img_f in files_to_move:\n",
    "        src=path+\"/\"+img_f\n",
    "        dest=\"val_images/\"+f+\"/\"+img_f\n",
    "        shutil.move(src,dest)\n"
   ]
  },
  {
   "cell_type": "code",
   "execution_count": 4,
   "metadata": {},
   "outputs": [
    {
     "name": "stdout",
     "output_type": "stream",
     "text": [
      "Found 2135 images belonging to 2 classes.\n",
      "Found 238 images belonging to 2 classes.\n"
     ]
    }
   ],
   "source": [
    "train_datagen = ImageDataGenerator(rescale = 1./255,\n",
    "                                   shear_range = 0.2,\n",
    "                                   zoom_range = 0.2,\n",
    "                                   horizontal_flip = True)\n",
    "\n",
    "training_set = train_datagen.flow_from_directory(\"train/\",\n",
    "                                                 target_size = (100, 100),\n",
    "                                                 batch_size = 32)\n",
    "\n",
    "val_datagen = ImageDataGenerator(rescale = 1./255)\n",
    "val_set = val_datagen.flow_from_directory(\"val_images/\",\n",
    "                                                 target_size = (100, 100),\n",
    "                                                 batch_size = 32)\n",
    "                                                 "
   ]
  },
  {
   "cell_type": "code",
   "execution_count": 5,
   "metadata": {},
   "outputs": [],
   "source": [
    "model.compile(optimizer = 'adam', loss = 'categorical_crossentropy', metrics = ['accuracy'])"
   ]
  },
  {
   "cell_type": "code",
   "execution_count": 6,
   "metadata": {},
   "outputs": [
    {
     "name": "stdout",
     "output_type": "stream",
     "text": [
      "Epoch 1/10\n",
      "128/128 [==============================] - 119s 926ms/step - loss: 0.5208 - accuracy: 0.7256 - val_loss: 0.4805 - val_accuracy: 0.7647\n",
      "Epoch 2/10\n",
      "128/128 [==============================] - 92s 717ms/step - loss: 0.4030 - accuracy: 0.8001 - val_loss: 0.2380 - val_accuracy: 0.7899\n",
      "Epoch 3/10\n",
      "128/128 [==============================] - 92s 721ms/step - loss: 0.3714 - accuracy: 0.8266 - val_loss: 0.2019 - val_accuracy: 0.7857\n",
      "Epoch 4/10\n",
      "128/128 [==============================] - 92s 721ms/step - loss: 0.3660 - accuracy: 0.8313 - val_loss: 0.5206 - val_accuracy: 0.7815\n",
      "Epoch 5/10\n",
      "128/128 [==============================] - 94s 731ms/step - loss: 0.3547 - accuracy: 0.8352 - val_loss: 0.3055 - val_accuracy: 0.8151\n",
      "Epoch 6/10\n",
      "128/128 [==============================] - 92s 721ms/step - loss: 0.3436 - accuracy: 0.8412 - val_loss: 0.3115 - val_accuracy: 0.8151\n",
      "Epoch 7/10\n",
      "128/128 [==============================] - 94s 738ms/step - loss: 0.3133 - accuracy: 0.8519 - val_loss: 0.9244 - val_accuracy: 0.7269\n",
      "Epoch 8/10\n",
      "128/128 [==============================] - 106s 826ms/step - loss: 0.3240 - accuracy: 0.8497 - val_loss: 0.5223 - val_accuracy: 0.8109\n",
      "Epoch 9/10\n",
      "128/128 [==============================] - 109s 852ms/step - loss: 0.3085 - accuracy: 0.8543 - val_loss: 0.3751 - val_accuracy: 0.8025\n"
     ]
    }
   ],
   "source": [
    "from  keras.callbacks import ModelCheckpoint\n",
    "from keras.callbacks import EarlyStopping\n",
    "\n",
    "checkpoint=ModelCheckpoint(\"best_model.h5\",monitor=\"val_loss\", verbose=0, save_best_only=True, save_weights_only=False, mode='auto', period=1)\n",
    "earlystop=EarlyStopping(monitor=\"val_accuracy\", patience=4)\n",
    "\n",
    "history=model.fit_generator(training_set,\n",
    "                            epochs = 10,\n",
    "                            steps_per_epoch=128,\n",
    "                            validation_data=val_set,\n",
    "                            validation_steps=8,\n",
    "                            callbacks=[checkpoint,earlystop])"
   ]
  },
  {
   "cell_type": "code",
   "execution_count": 8,
   "metadata": {},
   "outputs": [],
   "source": [
    "model.load_weights(\"best_model.h5\")"
   ]
  },
  {
   "cell_type": "code",
   "execution_count": 10,
   "metadata": {},
   "outputs": [
    {
     "name": "stdout",
     "output_type": "stream",
     "text": [
      "[[0.12407731 0.8759227 ]]\n"
     ]
    }
   ],
   "source": [
    "# predictions\n",
    "xtest=[]\n",
    "testimg=image.load_img(\"1251.jpg\",target_size=(100,100))\n",
    "X=image.img_to_array(testimg)/255.0\n",
    "xtest.append(X)\n",
    "xtest=np.array(xtest)\n",
    "ans=model.predict(xtest)\n",
    "print(ans)"
   ]
  },
  {
   "cell_type": "code",
   "execution_count": 11,
   "metadata": {},
   "outputs": [
    {
     "name": "stdout",
     "output_type": "stream",
     "text": [
      "1\n"
     ]
    }
   ],
   "source": [
    "predicted_class=np.argmax(ans)\n",
    "print(predicted_class)"
   ]
  },
  {
   "cell_type": "code",
   "execution_count": null,
   "metadata": {},
   "outputs": [],
   "source": []
  }
 ],
 "metadata": {
  "kernelspec": {
   "display_name": "Python 3",
   "language": "python",
   "name": "python3"
  },
  "language_info": {
   "codemirror_mode": {
    "name": "ipython",
    "version": 3
   },
   "file_extension": ".py",
   "mimetype": "text/x-python",
   "name": "python",
   "nbconvert_exporter": "python",
   "pygments_lexer": "ipython3",
   "version": "3.7.3"
  }
 },
 "nbformat": 4,
 "nbformat_minor": 2
}
